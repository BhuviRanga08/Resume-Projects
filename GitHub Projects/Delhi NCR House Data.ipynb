{
 "cells": [
  {
   "cell_type": "code",
   "execution_count": 1,
   "id": "62e0985f",
   "metadata": {},
   "outputs": [],
   "source": [
    "#Flats in Delhi-NCR"
   ]
  },
  {
   "cell_type": "markdown",
   "id": "8e33afee",
   "metadata": {},
   "source": [
    "<span style='font-family:Lato'><span style='font-size:110%'>\n",
    "Today we'll be using the Magic Bricks Site for scraping the house price data for Delhi - NCR\n",
    "    </span>"
   ]
  },
  {
   "cell_type": "code",
   "execution_count": 2,
   "id": "43fbf7f8",
   "metadata": {},
   "outputs": [],
   "source": [
    "#--Importing the required libraries\n",
    "import pandas as pd\n",
    "import numpy as np\n",
    "import requests\n",
    "from selenium.webdriver.common.by import By\n",
    "from selenium.webdriver.common.keys import Keys\n",
    "from selenium import webdriver\n",
    "from selenium.webdriver.chrome.service import Service\n",
    "from bs4 import BeautifulSoup"
   ]
  },
  {
   "cell_type": "code",
   "execution_count": 3,
   "id": "2a82a235",
   "metadata": {},
   "outputs": [
    {
     "name": "stdout",
     "output_type": "stream",
     "text": [
      "200\n"
     ]
    }
   ],
   "source": [
    "#--Connecting to the site\n",
    "url = 'https://www.magicbricks.com/flats-in-delhi-ncr-for-sale-pppfs'\n",
    "r = requests.get(url)\n",
    "print(r.status_code)\n",
    "\n",
    "soup = BeautifulSoup(r.text,'lxml')"
   ]
  },
  {
   "cell_type": "code",
   "execution_count": 4,
   "id": "1cb0668e",
   "metadata": {},
   "outputs": [
    {
     "data": {
      "text/plain": [
       "'\\nprice = [i.text for i in soup.find_all(\\'div\\', class_ = \"mb-srp__card__price--amount\")]\\nprice\\nlen(price)\\n\\nprice_per_sqft = [i.text for i in soup.find_all(\\'div\\', class_ = \"mb-srp__card__price--size\")]\\nprice_per_sqft\\nlen(price_per_sqft)\\n\\ntitle = [i.text for i in soup.find_all(\\'h2\\', class_ = \"mb-srp__card--title\")]\\ntitle\\nlen(title)\\n'"
      ]
     },
     "execution_count": 4,
     "metadata": {},
     "output_type": "execute_result"
    }
   ],
   "source": [
    "#--Dummy code \n",
    "\"\"\"\n",
    "price = [i.text for i in soup.find_all('div', class_ = \"mb-srp__card__price--amount\")]\n",
    "price\n",
    "len(price)\n",
    "\n",
    "price_per_sqft = [i.text for i in soup.find_all('div', class_ = \"mb-srp__card__price--size\")]\n",
    "price_per_sqft\n",
    "len(price_per_sqft)\n",
    "\n",
    "title = [i.text for i in soup.find_all('h2', class_ = \"mb-srp__card--title\")]\n",
    "title\n",
    "len(title)\n",
    "\"\"\"\n"
   ]
  },
  {
   "cell_type": "code",
   "execution_count": 5,
   "id": "22fd627b",
   "metadata": {},
   "outputs": [
    {
     "data": {
      "text/plain": [
       "'\\nprice = []\\nprice_per_sqft = []\\ntitle = []\\nwhile True:\\n    s = Service(\\'E:/Downloads/chromedriver.exe\\')\\n    driver = webdriver.Chrome(service = s)\\n    driver.get(url)\\n    height = driver.execute_script(\\'return document.body.scrollHeight\\')\\n    print(height)\\n    driver.execute_script(\\'window.scrollTo(0,document.body.scrollHeight)\\')\\n    new_height = driver.execute_script(\\'return document.body.scrollHeight\\')\\n    if height == new_height:\\n        price_val = soup.find_all(\\'div\\', class_ = \"mb-srp__card__price--amount\")\\n        for i in price_val:\\n            price.append(i.text)\\n            len(price)\\n        price_per_sqft_val = soup.find_all(\\'div\\', class_ = \"mb-srp__card__price--size\")\\n        for i in price_per_sqft_val:\\n            price_per_sqft.append(i.text)\\n            len(price_per_sqft)\\n        title_val = soup.find_all(\\'h2\\', class_ = \"mb-srp__card--title\")\\n        for i in title_val:\\n            title.append(i.text)\\n            len(title)\\n        break\\n        '"
      ]
     },
     "execution_count": 5,
     "metadata": {},
     "output_type": "execute_result"
    }
   ],
   "source": [
    "\"\"\"\n",
    "price = []\n",
    "price_per_sqft = []\n",
    "title = []\n",
    "while True:\n",
    "    s = Service('E:/Downloads/chromedriver.exe')\n",
    "    driver = webdriver.Chrome(service = s)\n",
    "    driver.get(url)\n",
    "    height = driver.execute_script('return document.body.scrollHeight')\n",
    "    print(height)\n",
    "    driver.execute_script('window.scrollTo(0,document.body.scrollHeight)')\n",
    "    new_height = driver.execute_script('return document.body.scrollHeight')\n",
    "    if height == new_height:\n",
    "        price_val = soup.find_all('div', class_ = \"mb-srp__card__price--amount\")\n",
    "        for i in price_val:\n",
    "            price.append(i.text)\n",
    "            len(price)\n",
    "        price_per_sqft_val = soup.find_all('div', class_ = \"mb-srp__card__price--size\")\n",
    "        for i in price_per_sqft_val:\n",
    "            price_per_sqft.append(i.text)\n",
    "            len(price_per_sqft)\n",
    "        title_val = soup.find_all('h2', class_ = \"mb-srp__card--title\")\n",
    "        for i in title_val:\n",
    "            title.append(i.text)\n",
    "            len(title)\n",
    "        break\n",
    "        \"\"\""
   ]
  },
  {
   "cell_type": "code",
   "execution_count": 7,
   "id": "e0a4d4eb",
   "metadata": {},
   "outputs": [
    {
     "name": "stdout",
     "output_type": "stream",
     "text": [
      "<Response [200]>\n",
      "<Response [200]>\n",
      "<Response [200]>\n",
      "<Response [200]>\n",
      "<Response [200]>\n",
      "<Response [200]>\n",
      "<Response [200]>\n",
      "<Response [200]>\n",
      "<Response [200]>\n",
      "<Response [200]>\n",
      "<Response [200]>\n",
      "<Response [200]>\n",
      "<Response [200]>\n",
      "<Response [200]>\n",
      "<Response [200]>\n",
      "<Response [200]>\n",
      "<Response [200]>\n",
      "<Response [200]>\n",
      "<Response [200]>\n",
      "<Response [200]>\n",
      "<Response [200]>\n",
      "<Response [200]>\n",
      "<Response [200]>\n",
      "<Response [200]>\n",
      "<Response [200]>\n",
      "<Response [200]>\n",
      "<Response [200]>\n",
      "<Response [200]>\n",
      "<Response [200]>\n",
      "<Response [200]>\n",
      "<Response [200]>\n",
      "<Response [200]>\n",
      "<Response [200]>\n",
      "<Response [200]>\n",
      "<Response [200]>\n",
      "<Response [200]>\n",
      "<Response [200]>\n",
      "<Response [200]>\n",
      "<Response [200]>\n",
      "<Response [200]>\n",
      "<Response [200]>\n",
      "<Response [200]>\n",
      "<Response [200]>\n",
      "<Response [200]>\n",
      "<Response [200]>\n",
      "<Response [200]>\n",
      "<Response [200]>\n",
      "<Response [200]>\n"
     ]
    }
   ],
   "source": [
    "#--Scrapping the data from multiple pages\n",
    "price = []\n",
    "price_per_sqft = []\n",
    "title = []\n",
    "for i in range(2,50):\n",
    "    url = 'https://www.magicbricks.com/flats-in-delhi-ncr-for-sale-pppfs/page-'+str(i)\n",
    "    r = requests.get(url)\n",
    "    print(r)\n",
    "    soup = BeautifulSoup(r.text,'lxml')\n",
    "    price_val = soup.find_all('div', class_ = \"mb-srp__card__price--amount\")\n",
    "    for i in price_val:\n",
    "        price.append(i.text)\n",
    "    len(price)\n",
    "    price_per_sqft_val = soup.find_all('div', class_ = \"mb-srp__card__price--size\")\n",
    "    for i in price_per_sqft_val:\n",
    "        price_per_sqft.append(i.text)\n",
    "    len(price_per_sqft)\n",
    "    title_val = soup.find_all('h2', class_ = \"mb-srp__card--title\")\n",
    "    for i in title_val:\n",
    "        title.append(i.text)\n",
    "    len(title)"
   ]
  },
  {
   "cell_type": "code",
   "execution_count": 8,
   "id": "12179a19",
   "metadata": {},
   "outputs": [
    {
     "data": {
      "text/plain": [
       "['₹95 Lac ',\n",
       " '₹5.25 Cr ',\n",
       " '₹65 Lac ',\n",
       " '₹2.20 Cr ',\n",
       " '₹70 Lac ',\n",
       " '₹75 Lac ',\n",
       " '₹78 Lac ',\n",
       " '₹68 Lac ',\n",
       " '₹22 Lac ',\n",
       " '₹73.4 Lac ']"
      ]
     },
     "execution_count": 8,
     "metadata": {},
     "output_type": "execute_result"
    }
   ],
   "source": [
    "#--Looking at price\n",
    "price[:10]"
   ]
  },
  {
   "cell_type": "code",
   "execution_count": 9,
   "id": "fdd6cd2b",
   "metadata": {},
   "outputs": [
    {
     "data": {
      "text/plain": [
       "1440"
      ]
     },
     "execution_count": 9,
     "metadata": {},
     "output_type": "execute_result"
    }
   ],
   "source": [
    "len(price)"
   ]
  },
  {
   "cell_type": "code",
   "execution_count": 10,
   "id": "ef70ad22",
   "metadata": {},
   "outputs": [
    {
     "data": {
      "text/plain": [
       "1325"
      ]
     },
     "execution_count": 10,
     "metadata": {},
     "output_type": "execute_result"
    }
   ],
   "source": [
    "len(price_per_sqft)"
   ]
  },
  {
   "cell_type": "code",
   "execution_count": 11,
   "id": "648741bb",
   "metadata": {},
   "outputs": [
    {
     "data": {
      "text/plain": [
       "1325"
      ]
     },
     "execution_count": 11,
     "metadata": {},
     "output_type": "execute_result"
    }
   ],
   "source": [
    "#--Changing the length according to price-per-sqft\n",
    "price = price[:1325]\n",
    "len(price)\n",
    "\n",
    "title = title[:1325]\n",
    "len(title)"
   ]
  },
  {
   "cell_type": "code",
   "execution_count": 12,
   "id": "977f489c",
   "metadata": {},
   "outputs": [
    {
     "data": {
      "text/html": [
       "<div>\n",
       "<style scoped>\n",
       "    .dataframe tbody tr th:only-of-type {\n",
       "        vertical-align: middle;\n",
       "    }\n",
       "\n",
       "    .dataframe tbody tr th {\n",
       "        vertical-align: top;\n",
       "    }\n",
       "\n",
       "    .dataframe thead th {\n",
       "        text-align: right;\n",
       "    }\n",
       "</style>\n",
       "<table border=\"1\" class=\"dataframe\">\n",
       "  <thead>\n",
       "    <tr style=\"text-align: right;\">\n",
       "      <th></th>\n",
       "      <th>Title</th>\n",
       "      <th>Price</th>\n",
       "      <th>Price Per Sqft</th>\n",
       "    </tr>\n",
       "  </thead>\n",
       "  <tbody>\n",
       "    <tr>\n",
       "      <th>0</th>\n",
       "      <td>3 BHK Apartment for Sale in Indirapuram Ghaziabad</td>\n",
       "      <td>₹95 Lac</td>\n",
       "      <td>₹4872 per sqft</td>\n",
       "    </tr>\n",
       "    <tr>\n",
       "      <th>1</th>\n",
       "      <td>4 BHK Apartment for Sale in Gwal Pahari Gurgaon</td>\n",
       "      <td>₹5.25 Cr</td>\n",
       "      <td>₹9052 per sqft</td>\n",
       "    </tr>\n",
       "    <tr>\n",
       "      <th>2</th>\n",
       "      <td>3 BHK Builder Floor for Sale in Freedom Fighte...</td>\n",
       "      <td>₹65 Lac</td>\n",
       "      <td>₹4333 per sqft</td>\n",
       "    </tr>\n",
       "    <tr>\n",
       "      <th>3</th>\n",
       "      <td>3 BHK Builder Floor for Sale in South City 2, ...</td>\n",
       "      <td>₹2.20 Cr</td>\n",
       "      <td>₹9402 per sqft</td>\n",
       "    </tr>\n",
       "    <tr>\n",
       "      <th>4</th>\n",
       "      <td>3 BHK Apartment for Sale in Sector 37C, Delhi ...</td>\n",
       "      <td>₹70 Lac</td>\n",
       "      <td>₹4554 per sqft</td>\n",
       "    </tr>\n",
       "  </tbody>\n",
       "</table>\n",
       "</div>"
      ],
      "text/plain": [
       "                                               Title      Price  \\\n",
       "0  3 BHK Apartment for Sale in Indirapuram Ghaziabad   ₹95 Lac    \n",
       "1    4 BHK Apartment for Sale in Gwal Pahari Gurgaon  ₹5.25 Cr    \n",
       "2  3 BHK Builder Floor for Sale in Freedom Fighte...   ₹65 Lac    \n",
       "3  3 BHK Builder Floor for Sale in South City 2, ...  ₹2.20 Cr    \n",
       "4  3 BHK Apartment for Sale in Sector 37C, Delhi ...   ₹70 Lac    \n",
       "\n",
       "    Price Per Sqft  \n",
       "0  ₹4872 per sqft   \n",
       "1  ₹9052 per sqft   \n",
       "2  ₹4333 per sqft   \n",
       "3  ₹9402 per sqft   \n",
       "4  ₹4554 per sqft   "
      ]
     },
     "execution_count": 12,
     "metadata": {},
     "output_type": "execute_result"
    }
   ],
   "source": [
    "#--Creating the dataframe\n",
    "df = pd.DataFrame({'Title':title,\n",
    "                  'Price': price,\n",
    "                  'Price Per Sqft': price_per_sqft})\n",
    "df.head()"
   ]
  },
  {
   "cell_type": "code",
   "execution_count": 13,
   "id": "7b8c56ab",
   "metadata": {},
   "outputs": [],
   "source": [
    "#--Saving to csv file\n",
    "df.to_csv('Delhi-NCR_Flats.csv')"
   ]
  },
  {
   "cell_type": "markdown",
   "id": "f661f0c3",
   "metadata": {},
   "source": [
    "<span style='font-family:Lato'><span style='font-size:110%'>\n",
    "    We have created a data set with 1600+ rows :) \n",
    "    </span>"
   ]
  }
 ],
 "metadata": {
  "kernelspec": {
   "display_name": "Python 3 (ipykernel)",
   "language": "python",
   "name": "python3"
  },
  "language_info": {
   "codemirror_mode": {
    "name": "ipython",
    "version": 3
   },
   "file_extension": ".py",
   "mimetype": "text/x-python",
   "name": "python",
   "nbconvert_exporter": "python",
   "pygments_lexer": "ipython3",
   "version": "3.9.13"
  }
 },
 "nbformat": 4,
 "nbformat_minor": 5
}
